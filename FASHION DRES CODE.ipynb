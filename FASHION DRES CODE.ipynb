{
 "cells": [
  {
   "cell_type": "code",
   "execution_count": 1,
   "metadata": {
    "execution": {
     "iopub.execute_input": "2024-10-29T10:18:37.558385Z",
     "iopub.status.busy": "2024-10-29T10:18:37.557993Z",
     "iopub.status.idle": "2024-10-29T10:18:39.471512Z",
     "shell.execute_reply": "2024-10-29T10:18:39.470427Z",
     "shell.execute_reply.started": "2024-10-29T10:18:37.558321Z"
    },
    "id": "ARoMhuCDW__e",
    "outputId": "ddb7fa0f-eaaf-4ed8-b8a8-abef753dbedc",
    "trusted": true
   },
   "outputs": [
    {
     "name": "stdout",
     "output_type": "stream",
     "text": [
      "Traceback (most recent call last):\n",
      "  File \"/opt/conda/bin/kaggle\", line 5, in <module>\n",
      "    from kaggle.cli import main\n",
      "  File \"/opt/conda/lib/python3.10/site-packages/kaggle/__init__.py\", line 7, in <module>\n",
      "    api.authenticate()\n",
      "  File \"/opt/conda/lib/python3.10/site-packages/kaggle/api/kaggle_api_extended.py\", line 407, in authenticate\n",
      "    raise IOError('Could not find {}. Make sure it\\'s located in'\n",
      "OSError: Could not find kaggle.json. Make sure it's located in /root/.config/kaggle. Or use the environment method. See setup instructions at https://github.com/Kaggle/kaggle-api/\n"
     ]
    },
    {
     "data": {
      "text/html": [
       "<div>\n",
       "<style scoped>\n",
       "    .dataframe tbody tr th:only-of-type {\n",
       "        vertical-align: middle;\n",
       "    }\n",
       "\n",
       "    .dataframe tbody tr th {\n",
       "        vertical-align: top;\n",
       "    }\n",
       "\n",
       "    .dataframe thead th {\n",
       "        text-align: right;\n",
       "    }\n",
       "</style>\n",
       "<table border=\"1\" class=\"dataframe\">\n",
       "  <thead>\n",
       "    <tr style=\"text-align: right;\">\n",
       "      <th></th>\n",
       "      <th>id</th>\n",
       "      <th>Category</th>\n",
       "      <th>len</th>\n",
       "      <th>attr_1</th>\n",
       "      <th>attr_2</th>\n",
       "      <th>attr_3</th>\n",
       "      <th>attr_4</th>\n",
       "      <th>attr_5</th>\n",
       "      <th>attr_6</th>\n",
       "      <th>attr_7</th>\n",
       "      <th>attr_8</th>\n",
       "      <th>attr_9</th>\n",
       "      <th>attr_10</th>\n",
       "    </tr>\n",
       "  </thead>\n",
       "  <tbody>\n",
       "    <tr>\n",
       "      <th>0</th>\n",
       "      <td>0</td>\n",
       "      <td>Men Tshirts</td>\n",
       "      <td>5</td>\n",
       "      <td>default</td>\n",
       "      <td>round</td>\n",
       "      <td>printed</td>\n",
       "      <td>default</td>\n",
       "      <td>short sleeves</td>\n",
       "      <td>NaN</td>\n",
       "      <td>NaN</td>\n",
       "      <td>NaN</td>\n",
       "      <td>NaN</td>\n",
       "      <td>NaN</td>\n",
       "    </tr>\n",
       "    <tr>\n",
       "      <th>1</th>\n",
       "      <td>1</td>\n",
       "      <td>Men Tshirts</td>\n",
       "      <td>5</td>\n",
       "      <td>multicolor</td>\n",
       "      <td>polo</td>\n",
       "      <td>solid</td>\n",
       "      <td>solid</td>\n",
       "      <td>short sleeves</td>\n",
       "      <td>NaN</td>\n",
       "      <td>NaN</td>\n",
       "      <td>NaN</td>\n",
       "      <td>NaN</td>\n",
       "      <td>NaN</td>\n",
       "    </tr>\n",
       "    <tr>\n",
       "      <th>2</th>\n",
       "      <td>2</td>\n",
       "      <td>Men Tshirts</td>\n",
       "      <td>5</td>\n",
       "      <td>default</td>\n",
       "      <td>polo</td>\n",
       "      <td>solid</td>\n",
       "      <td>solid</td>\n",
       "      <td>short sleeves</td>\n",
       "      <td>NaN</td>\n",
       "      <td>NaN</td>\n",
       "      <td>NaN</td>\n",
       "      <td>NaN</td>\n",
       "      <td>NaN</td>\n",
       "    </tr>\n",
       "    <tr>\n",
       "      <th>3</th>\n",
       "      <td>3</td>\n",
       "      <td>Men Tshirts</td>\n",
       "      <td>5</td>\n",
       "      <td>multicolor</td>\n",
       "      <td>polo</td>\n",
       "      <td>solid</td>\n",
       "      <td>solid</td>\n",
       "      <td>short sleeves</td>\n",
       "      <td>NaN</td>\n",
       "      <td>NaN</td>\n",
       "      <td>NaN</td>\n",
       "      <td>NaN</td>\n",
       "      <td>NaN</td>\n",
       "    </tr>\n",
       "    <tr>\n",
       "      <th>4</th>\n",
       "      <td>4</td>\n",
       "      <td>Men Tshirts</td>\n",
       "      <td>5</td>\n",
       "      <td>multicolor</td>\n",
       "      <td>polo</td>\n",
       "      <td>solid</td>\n",
       "      <td>solid</td>\n",
       "      <td>short sleeves</td>\n",
       "      <td>NaN</td>\n",
       "      <td>NaN</td>\n",
       "      <td>NaN</td>\n",
       "      <td>NaN</td>\n",
       "      <td>NaN</td>\n",
       "    </tr>\n",
       "  </tbody>\n",
       "</table>\n",
       "</div>"
      ],
      "text/plain": [
       "   id     Category  len      attr_1 attr_2   attr_3   attr_4         attr_5  \\\n",
       "0   0  Men Tshirts    5     default  round  printed  default  short sleeves   \n",
       "1   1  Men Tshirts    5  multicolor   polo    solid    solid  short sleeves   \n",
       "2   2  Men Tshirts    5     default   polo    solid    solid  short sleeves   \n",
       "3   3  Men Tshirts    5  multicolor   polo    solid    solid  short sleeves   \n",
       "4   4  Men Tshirts    5  multicolor   polo    solid    solid  short sleeves   \n",
       "\n",
       "  attr_6 attr_7 attr_8 attr_9 attr_10  \n",
       "0    NaN    NaN    NaN    NaN     NaN  \n",
       "1    NaN    NaN    NaN    NaN     NaN  \n",
       "2    NaN    NaN    NaN    NaN     NaN  \n",
       "3    NaN    NaN    NaN    NaN     NaN  \n",
       "4    NaN    NaN    NaN    NaN     NaN  "
      ]
     },
     "execution_count": 1,
     "metadata": {},
     "output_type": "execute_result"
    }
   ],
   "source": [
    "import pandas as pd\n",
    "import requests\n",
    "import io\n",
    "import os\n",
    "\n",
    "# Assuming you've already authenticated with Kaggle API\n",
    "\n",
    "# Fetch data using Kaggle API command\n",
    "!kaggle competitions download -c visual-taxonomy -f train.csv -p /content/\n",
    "\n",
    "# Load the downloaded file into a pandas dataframe\n",
    "train_data = pd.read_csv('/kaggle/input/visual-taxonomy/train.csv')  # Update path if needed\n",
    "train_data.head()"
   ]
  },
  {
   "cell_type": "code",
   "execution_count": 2,
   "metadata": {
    "execution": {
     "iopub.execute_input": "2024-10-29T10:18:41.883478Z",
     "iopub.status.busy": "2024-10-29T10:18:41.883067Z",
     "iopub.status.idle": "2024-10-29T10:18:41.895231Z",
     "shell.execute_reply": "2024-10-29T10:18:41.894274Z",
     "shell.execute_reply.started": "2024-10-29T10:18:41.883439Z"
    },
    "id": "XrzJSHOQZsil",
    "outputId": "44c3feff-6509-4239-fbb3-4c406343ea99",
    "trusted": true
   },
   "outputs": [
    {
     "data": {
      "text/plain": [
       "array(['Men Tshirts', 'Sarees', 'Kurtis', 'Women Tshirts',\n",
       "       'Women Tops & Tunics'], dtype=object)"
      ]
     },
     "execution_count": 2,
     "metadata": {},
     "output_type": "execute_result"
    }
   ],
   "source": [
    "train_data['Category'].unique()"
   ]
  },
  {
   "cell_type": "code",
   "execution_count": 3,
   "metadata": {
    "execution": {
     "iopub.execute_input": "2024-10-29T10:18:42.654119Z",
     "iopub.status.busy": "2024-10-29T10:18:42.653800Z",
     "iopub.status.idle": "2024-10-29T10:18:42.697136Z",
     "shell.execute_reply": "2024-10-29T10:18:42.696236Z",
     "shell.execute_reply.started": "2024-10-29T10:18:42.654085Z"
    },
    "id": "nc84AOhhZn7_",
    "outputId": "770eb040-2953-4438-e525-1192b9a13a9a",
    "trusted": true
   },
   "outputs": [
    {
     "data": {
      "text/plain": [
       "id          18346\n",
       "Category    18346\n",
       "len         18346\n",
       "attr_1       7885\n",
       "attr_2      17679\n",
       "attr_3      15861\n",
       "attr_4      17896\n",
       "attr_5      17649\n",
       "attr_6       5010\n",
       "attr_7       8896\n",
       "attr_8      16465\n",
       "attr_9      14303\n",
       "attr_10     17818\n",
       "dtype: int64"
      ]
     },
     "execution_count": 3,
     "metadata": {},
     "output_type": "execute_result"
    }
   ],
   "source": [
    "train_data[train_data['Category']=='Sarees'].count()"
   ]
  },
  {
   "cell_type": "code",
   "execution_count": 4,
   "metadata": {
    "execution": {
     "iopub.execute_input": "2024-10-29T10:18:43.829189Z",
     "iopub.status.busy": "2024-10-29T10:18:43.828465Z",
     "iopub.status.idle": "2024-10-29T10:18:43.902157Z",
     "shell.execute_reply": "2024-10-29T10:18:43.901331Z",
     "shell.execute_reply.started": "2024-10-29T10:18:43.829143Z"
    },
    "id": "bsuOimODX_Gk",
    "trusted": true
   },
   "outputs": [],
   "source": [
    "saree_data=train_data[(train_data['Category']=='Sarees')]\n",
    "men_df=train_data[(train_data['Category']=='Men Tshirts')]\n",
    "kurti_df=train_data[(train_data['Category']=='Kurtis')]\n",
    "womenT_df=train_data[(train_data['Category']=='Women Tshirts')]\n",
    "womenTops_df=train_data[(train_data['Category']=='Women Tops & Tunics')]"
   ]
  },
  {
   "cell_type": "code",
   "execution_count": 5,
   "metadata": {
    "execution": {
     "iopub.execute_input": "2024-10-29T10:18:46.813403Z",
     "iopub.status.busy": "2024-10-29T10:18:46.812648Z",
     "iopub.status.idle": "2024-10-29T10:18:46.845459Z",
     "shell.execute_reply": "2024-10-29T10:18:46.844546Z",
     "shell.execute_reply.started": "2024-10-29T10:18:46.813353Z"
    },
    "id": "06f2tMdodKM9",
    "outputId": "8d62767e-cdde-4892-d830-fc815e0a9e87",
    "trusted": true
   },
   "outputs": [
    {
     "name": "stdout",
     "output_type": "stream",
     "text": [
      "Number of rows with more than 4 null values: 1960\n",
      "Number of rows with more than 5 null values: 1830\n"
     ]
    }
   ],
   "source": [
    "# prompt: how to get row wise null values and get the count for which there are more than 4 or 5 null values\n",
    "\n",
    "# Calculate the number of null values in each row\n",
    "row_null_counts = saree_data.isnull().sum(axis=1)\n",
    "\n",
    "# Filter rows with more than 4 or 5 null values\n",
    "rows_with_many_nulls = saree_data[row_null_counts > 4]\n",
    "\n",
    "# Get the count of rows with more than 4 null values\n",
    "count_rows_more_than_4_nulls = len(rows_with_many_nulls)\n",
    "\n",
    "print(f\"Number of rows with more than 4 null values: {count_rows_more_than_4_nulls}\")\n",
    "\n",
    "# Get the count of rows with more than 5 null values (you can adjust the threshold)\n",
    "rows_with_many_nulls = saree_data[row_null_counts > 5]\n",
    "count_rows_more_than_5_nulls = len(rows_with_many_nulls)\n",
    "print(f\"Number of rows with more than 5 null values: {count_rows_more_than_5_nulls}\")\n"
   ]
  },
  {
   "cell_type": "code",
   "execution_count": 9,
   "metadata": {
    "execution": {
     "iopub.execute_input": "2024-10-29T10:20:04.105979Z",
     "iopub.status.busy": "2024-10-29T10:20:04.105261Z",
     "iopub.status.idle": "2024-10-29T10:20:04.201587Z",
     "shell.execute_reply": "2024-10-29T10:20:04.200656Z",
     "shell.execute_reply.started": "2024-10-29T10:20:04.105935Z"
    },
    "id": "dmv8dGV6hJMO",
    "trusted": true
   },
   "outputs": [],
   "source": [
    "saree_data_cleaned=saree_data.dropna(thresh=saree_data.shape[1]-5+1)\n",
    "men_df_cleaned=men_df.dropna(thresh=men_df.shape[1]-7+1)\n",
    "kurti_df_cleaned=kurti_df.dropna(thresh=kurti_df.shape[1]-5+1)\n",
    "womenT_df_cleaned=womenT_df.dropna(thresh=womenT_df.shape[1]-5+1)\n",
    "womenTops_df_cleaned=womenTops_df.dropna(thresh=womenTops_df.shape[1]-5+1)"
   ]
  },
  {
   "cell_type": "code",
   "execution_count": 12,
   "metadata": {
    "execution": {
     "iopub.execute_input": "2024-10-29T10:21:18.117353Z",
     "iopub.status.busy": "2024-10-29T10:21:18.116480Z",
     "iopub.status.idle": "2024-10-29T10:21:18.123970Z",
     "shell.execute_reply": "2024-10-29T10:21:18.123125Z",
     "shell.execute_reply.started": "2024-10-29T10:21:18.117312Z"
    },
    "trusted": true
   },
   "outputs": [],
   "source": [
    "# Using .loc[] to assign values directly to the DataFrame\n",
    "men_df_cleaned.loc[:, 'attr_6'] = 'dummy_value'\n",
    "men_df_cleaned.loc[:, 'attr_7'] = 'dummy_value'\n",
    "men_df_cleaned.loc[:, 'attr_8'] = 'dummy_value'\n",
    "men_df_cleaned.loc[:, 'attr_9'] = 'dummy_value'\n",
    "men_df_cleaned.loc[:, 'attr_10'] = 'dummy_value'\n",
    "\n",
    "kurti_df_cleaned.loc[:, 'attr_10'] = 'dummy_value'\n",
    "\n",
    "womenT_df_cleaned.loc[:, 'attr_9'] = 'dummy_value'\n",
    "womenT_df_cleaned.loc[:, 'attr_10'] = 'dummy_value'\n"
   ]
  },
  {
   "cell_type": "code",
   "execution_count": 16,
   "metadata": {
    "execution": {
     "iopub.execute_input": "2024-10-29T10:22:04.782949Z",
     "iopub.status.busy": "2024-10-29T10:22:04.782546Z",
     "iopub.status.idle": "2024-10-29T10:22:04.797550Z",
     "shell.execute_reply": "2024-10-29T10:22:04.796619Z",
     "shell.execute_reply.started": "2024-10-29T10:22:04.782911Z"
    },
    "trusted": true
   },
   "outputs": [
    {
     "data": {
      "text/plain": [
       "id          5323\n",
       "Category    5323\n",
       "len         5323\n",
       "attr_1      5271\n",
       "attr_2      5194\n",
       "attr_3      4951\n",
       "attr_4      5188\n",
       "attr_5      5263\n",
       "attr_6      5323\n",
       "attr_7      5323\n",
       "attr_8      5323\n",
       "attr_9      5323\n",
       "attr_10     5323\n",
       "dtype: int64"
      ]
     },
     "execution_count": 16,
     "metadata": {},
     "output_type": "execute_result"
    }
   ],
   "source": [
    "men_df_cleaned.count()"
   ]
  },
  {
   "cell_type": "code",
   "execution_count": 17,
   "metadata": {
    "execution": {
     "iopub.execute_input": "2024-10-29T10:22:11.237856Z",
     "iopub.status.busy": "2024-10-29T10:22:11.237099Z",
     "iopub.status.idle": "2024-10-29T10:22:11.422085Z",
     "shell.execute_reply": "2024-10-29T10:22:11.421066Z",
     "shell.execute_reply.started": "2024-10-29T10:22:11.237814Z"
    },
    "id": "PbaxwIehknU5",
    "outputId": "ed880545-e8d8-4813-e49d-81906ee50ad3",
    "trusted": true
   },
   "outputs": [
    {
     "name": "stderr",
     "output_type": "stream",
     "text": [
      "/tmp/ipykernel_1638/2150165297.py:10: FutureWarning: A value is trying to be set on a copy of a DataFrame or Series through chained assignment using an inplace method.\n",
      "The behavior will change in pandas 3.0. This inplace method will never work because the intermediate object on which we are setting values always behaves as a copy.\n",
      "\n",
      "For example, when doing 'df[col].method(value, inplace=True)', try using 'df.method({col: value}, inplace=True)' or df[col] = df[col].method(value) instead, to perform the operation inplace on the original object.\n",
      "\n",
      "\n",
      "  saree_data_imputed[column].fillna(mode_value, inplace=True)\n",
      "/tmp/ipykernel_1638/2150165297.py:10: FutureWarning: A value is trying to be set on a copy of a DataFrame or Series through chained assignment using an inplace method.\n",
      "The behavior will change in pandas 3.0. This inplace method will never work because the intermediate object on which we are setting values always behaves as a copy.\n",
      "\n",
      "For example, when doing 'df[col].method(value, inplace=True)', try using 'df.method({col: value}, inplace=True)' or df[col] = df[col].method(value) instead, to perform the operation inplace on the original object.\n",
      "\n",
      "\n",
      "  saree_data_imputed[column].fillna(mode_value, inplace=True)\n",
      "/tmp/ipykernel_1638/2150165297.py:19: FutureWarning: A value is trying to be set on a copy of a DataFrame or Series through chained assignment using an inplace method.\n",
      "The behavior will change in pandas 3.0. This inplace method will never work because the intermediate object on which we are setting values always behaves as a copy.\n",
      "\n",
      "For example, when doing 'df[col].method(value, inplace=True)', try using 'df.method({col: value}, inplace=True)' or df[col] = df[col].method(value) instead, to perform the operation inplace on the original object.\n",
      "\n",
      "\n",
      "  men_df_imputed[column].fillna(mode_value, inplace=True)\n",
      "/tmp/ipykernel_1638/2150165297.py:19: FutureWarning: A value is trying to be set on a copy of a DataFrame or Series through chained assignment using an inplace method.\n",
      "The behavior will change in pandas 3.0. This inplace method will never work because the intermediate object on which we are setting values always behaves as a copy.\n",
      "\n",
      "For example, when doing 'df[col].method(value, inplace=True)', try using 'df.method({col: value}, inplace=True)' or df[col] = df[col].method(value) instead, to perform the operation inplace on the original object.\n",
      "\n",
      "\n",
      "  men_df_imputed[column].fillna(mode_value, inplace=True)\n",
      "/tmp/ipykernel_1638/2150165297.py:27: FutureWarning: A value is trying to be set on a copy of a DataFrame or Series through chained assignment using an inplace method.\n",
      "The behavior will change in pandas 3.0. This inplace method will never work because the intermediate object on which we are setting values always behaves as a copy.\n",
      "\n",
      "For example, when doing 'df[col].method(value, inplace=True)', try using 'df.method({col: value}, inplace=True)' or df[col] = df[col].method(value) instead, to perform the operation inplace on the original object.\n",
      "\n",
      "\n",
      "  kurti_df_imputed[column].fillna(mode_value, inplace=True)\n",
      "/tmp/ipykernel_1638/2150165297.py:27: FutureWarning: A value is trying to be set on a copy of a DataFrame or Series through chained assignment using an inplace method.\n",
      "The behavior will change in pandas 3.0. This inplace method will never work because the intermediate object on which we are setting values always behaves as a copy.\n",
      "\n",
      "For example, when doing 'df[col].method(value, inplace=True)', try using 'df.method({col: value}, inplace=True)' or df[col] = df[col].method(value) instead, to perform the operation inplace on the original object.\n",
      "\n",
      "\n",
      "  kurti_df_imputed[column].fillna(mode_value, inplace=True)\n",
      "/tmp/ipykernel_1638/2150165297.py:36: FutureWarning: A value is trying to be set on a copy of a DataFrame or Series through chained assignment using an inplace method.\n",
      "The behavior will change in pandas 3.0. This inplace method will never work because the intermediate object on which we are setting values always behaves as a copy.\n",
      "\n",
      "For example, when doing 'df[col].method(value, inplace=True)', try using 'df.method({col: value}, inplace=True)' or df[col] = df[col].method(value) instead, to perform the operation inplace on the original object.\n",
      "\n",
      "\n",
      "  womenT_df_imputed[column].fillna(mode_value, inplace=True)\n",
      "/tmp/ipykernel_1638/2150165297.py:36: FutureWarning: A value is trying to be set on a copy of a DataFrame or Series through chained assignment using an inplace method.\n",
      "The behavior will change in pandas 3.0. This inplace method will never work because the intermediate object on which we are setting values always behaves as a copy.\n",
      "\n",
      "For example, when doing 'df[col].method(value, inplace=True)', try using 'df.method({col: value}, inplace=True)' or df[col] = df[col].method(value) instead, to perform the operation inplace on the original object.\n",
      "\n",
      "\n",
      "  womenT_df_imputed[column].fillna(mode_value, inplace=True)\n",
      "/tmp/ipykernel_1638/2150165297.py:44: FutureWarning: A value is trying to be set on a copy of a DataFrame or Series through chained assignment using an inplace method.\n",
      "The behavior will change in pandas 3.0. This inplace method will never work because the intermediate object on which we are setting values always behaves as a copy.\n",
      "\n",
      "For example, when doing 'df[col].method(value, inplace=True)', try using 'df.method({col: value}, inplace=True)' or df[col] = df[col].method(value) instead, to perform the operation inplace on the original object.\n",
      "\n",
      "\n",
      "  womenTops_df_imputed[column].fillna(mode_value, inplace=True)\n",
      "/tmp/ipykernel_1638/2150165297.py:44: FutureWarning: A value is trying to be set on a copy of a DataFrame or Series through chained assignment using an inplace method.\n",
      "The behavior will change in pandas 3.0. This inplace method will never work because the intermediate object on which we are setting values always behaves as a copy.\n",
      "\n",
      "For example, when doing 'df[col].method(value, inplace=True)', try using 'df.method({col: value}, inplace=True)' or df[col] = df[col].method(value) instead, to perform the operation inplace on the original object.\n",
      "\n",
      "\n",
      "  womenTops_df_imputed[column].fillna(mode_value, inplace=True)\n"
     ]
    }
   ],
   "source": [
    "import pandas as pd\n",
    "\n",
    "\n",
    "saree_data_imputed = saree_data_cleaned.copy()  \n",
    "\n",
    "\n",
    "for column in saree_data_imputed.columns:\n",
    "\n",
    "    mode_value = saree_data_imputed[column].mode()[0]  \n",
    "    saree_data_imputed[column].fillna(mode_value, inplace=True)\n",
    "    \n",
    "saree_data_imputed = saree_data_cleaned.copy()  \n",
    "######33\n",
    "men_df_imputed = men_df_cleaned.copy()\n",
    "\n",
    "for column in men_df_imputed.columns:\n",
    "\n",
    "    mode_value = men_df_imputed[column].mode()[0]  \n",
    "    men_df_imputed[column].fillna(mode_value, inplace=True)\n",
    "    \n",
    "######33\n",
    "kurti_df_imputed = kurti_df_cleaned.copy()\n",
    "\n",
    "for column in kurti_df_imputed.columns:\n",
    "\n",
    "    mode_value = kurti_df_imputed[column].mode()[0]  \n",
    "    kurti_df_imputed[column].fillna(mode_value, inplace=True)\n",
    "    \n",
    "    \n",
    "######33\n",
    "womenT_df_imputed = womenT_df_cleaned.copy()\n",
    "\n",
    "for column in womenT_df_imputed.columns:\n",
    "\n",
    "    mode_value = womenT_df_imputed[column].mode()[0]  \n",
    "    womenT_df_imputed[column].fillna(mode_value, inplace=True)\n",
    "\n",
    "######33\n",
    "womenTops_df_imputed = womenTops_df_cleaned.copy()\n",
    "\n",
    "for column in womenTops_df_imputed.columns:\n",
    "\n",
    "    mode_value = womenTops_df_imputed[column].mode()[0]  \n",
    "    womenTops_df_imputed[column].fillna(mode_value, inplace=True)\n",
    "\n",
    "\n",
    "\n",
    "\n",
    "\n"
   ]
  },
  {
   "cell_type": "code",
   "execution_count": 19,
   "metadata": {
    "execution": {
     "iopub.execute_input": "2024-10-29T10:23:29.022220Z",
     "iopub.status.busy": "2024-10-29T10:23:29.021483Z",
     "iopub.status.idle": "2024-10-29T10:23:29.075565Z",
     "shell.execute_reply": "2024-10-29T10:23:29.074455Z",
     "shell.execute_reply.started": "2024-10-29T10:23:29.022176Z"
    },
    "id": "ucv3jFeVmkGI",
    "outputId": "c53b8bb0-2b03-4ed2-cb5e-0990223c4318",
    "trusted": true
   },
   "outputs": [
    {
     "data": {
      "text/plain": [
       "id          0\n",
       "Category    0\n",
       "len         0\n",
       "attr_1      0\n",
       "attr_2      0\n",
       "attr_3      0\n",
       "attr_4      0\n",
       "attr_5      0\n",
       "attr_6      0\n",
       "attr_7      0\n",
       "attr_8      0\n",
       "attr_9      0\n",
       "attr_10     0\n",
       "dtype: int64"
      ]
     },
     "execution_count": 19,
     "metadata": {},
     "output_type": "execute_result"
    }
   ],
   "source": [
    "saree_data_imputed.isnull().sum()\n",
    "men_df_imputed.isnull().sum()\n",
    "kurti_df_imputed.isnull().sum()\n",
    "womenT_df_imputed.isnull().sum()\n",
    "print(womenTops_df_imputed.isnull().sum())"
   ]
  },
  {
   "cell_type": "code",
   "execution_count": 20,
   "metadata": {
    "execution": {
     "iopub.execute_input": "2024-10-29T10:23:38.274406Z",
     "iopub.status.busy": "2024-10-29T10:23:38.273978Z",
     "iopub.status.idle": "2024-10-29T10:23:38.290538Z",
     "shell.execute_reply": "2024-10-29T10:23:38.289658Z",
     "shell.execute_reply.started": "2024-10-29T10:23:38.274348Z"
    },
    "id": "0QMfMh1_p9oT",
    "outputId": "82f483f8-fdfa-4550-ebf6-a92f4b85e839",
    "trusted": true
   },
   "outputs": [
    {
     "data": {
      "text/html": [
       "<div>\n",
       "<style scoped>\n",
       "    .dataframe tbody tr th:only-of-type {\n",
       "        vertical-align: middle;\n",
       "    }\n",
       "\n",
       "    .dataframe tbody tr th {\n",
       "        vertical-align: top;\n",
       "    }\n",
       "\n",
       "    .dataframe thead th {\n",
       "        text-align: right;\n",
       "    }\n",
       "</style>\n",
       "<table border=\"1\" class=\"dataframe\">\n",
       "  <thead>\n",
       "    <tr style=\"text-align: right;\">\n",
       "      <th></th>\n",
       "      <th>id</th>\n",
       "      <th>Category</th>\n",
       "      <th>len</th>\n",
       "      <th>attr_1</th>\n",
       "      <th>attr_2</th>\n",
       "      <th>attr_3</th>\n",
       "      <th>attr_4</th>\n",
       "      <th>attr_5</th>\n",
       "      <th>attr_6</th>\n",
       "      <th>attr_7</th>\n",
       "      <th>attr_8</th>\n",
       "      <th>attr_9</th>\n",
       "      <th>attr_10</th>\n",
       "    </tr>\n",
       "  </thead>\n",
       "  <tbody>\n",
       "    <tr>\n",
       "      <th>25608</th>\n",
       "      <td>25773</td>\n",
       "      <td>Sarees</td>\n",
       "      <td>10</td>\n",
       "      <td>NaN</td>\n",
       "      <td>zari</td>\n",
       "      <td>small border</td>\n",
       "      <td>cream</td>\n",
       "      <td>party</td>\n",
       "      <td>NaN</td>\n",
       "      <td>NaN</td>\n",
       "      <td>zari woven</td>\n",
       "      <td>peacock</td>\n",
       "      <td>no</td>\n",
       "    </tr>\n",
       "    <tr>\n",
       "      <th>25609</th>\n",
       "      <td>25774</td>\n",
       "      <td>Sarees</td>\n",
       "      <td>10</td>\n",
       "      <td>NaN</td>\n",
       "      <td>no border</td>\n",
       "      <td>no border</td>\n",
       "      <td>default</td>\n",
       "      <td>party</td>\n",
       "      <td>NaN</td>\n",
       "      <td>zari woven</td>\n",
       "      <td>zari woven</td>\n",
       "      <td>default</td>\n",
       "      <td>no</td>\n",
       "    </tr>\n",
       "    <tr>\n",
       "      <th>25610</th>\n",
       "      <td>25775</td>\n",
       "      <td>Sarees</td>\n",
       "      <td>10</td>\n",
       "      <td>NaN</td>\n",
       "      <td>zari</td>\n",
       "      <td>small border</td>\n",
       "      <td>cream</td>\n",
       "      <td>party</td>\n",
       "      <td>NaN</td>\n",
       "      <td>NaN</td>\n",
       "      <td>zari woven</td>\n",
       "      <td>peacock</td>\n",
       "      <td>no</td>\n",
       "    </tr>\n",
       "    <tr>\n",
       "      <th>25611</th>\n",
       "      <td>25776</td>\n",
       "      <td>Sarees</td>\n",
       "      <td>10</td>\n",
       "      <td>NaN</td>\n",
       "      <td>temple border</td>\n",
       "      <td>small border</td>\n",
       "      <td>cream</td>\n",
       "      <td>party</td>\n",
       "      <td>NaN</td>\n",
       "      <td>NaN</td>\n",
       "      <td>zari woven</td>\n",
       "      <td>peacock</td>\n",
       "      <td>no</td>\n",
       "    </tr>\n",
       "    <tr>\n",
       "      <th>25612</th>\n",
       "      <td>25777</td>\n",
       "      <td>Sarees</td>\n",
       "      <td>10</td>\n",
       "      <td>same as saree</td>\n",
       "      <td>woven design</td>\n",
       "      <td>big border</td>\n",
       "      <td>multicolor</td>\n",
       "      <td>party</td>\n",
       "      <td>jacquard</td>\n",
       "      <td>woven design</td>\n",
       "      <td>zari woven</td>\n",
       "      <td>NaN</td>\n",
       "      <td>no</td>\n",
       "    </tr>\n",
       "  </tbody>\n",
       "</table>\n",
       "</div>"
      ],
      "text/plain": [
       "          id Category  len         attr_1         attr_2        attr_3  \\\n",
       "25608  25773   Sarees   10            NaN           zari  small border   \n",
       "25609  25774   Sarees   10            NaN      no border     no border   \n",
       "25610  25775   Sarees   10            NaN           zari  small border   \n",
       "25611  25776   Sarees   10            NaN  temple border  small border   \n",
       "25612  25777   Sarees   10  same as saree   woven design    big border   \n",
       "\n",
       "           attr_4 attr_5    attr_6        attr_7      attr_8   attr_9 attr_10  \n",
       "25608       cream  party       NaN           NaN  zari woven  peacock      no  \n",
       "25609     default  party       NaN    zari woven  zari woven  default      no  \n",
       "25610       cream  party       NaN           NaN  zari woven  peacock      no  \n",
       "25611       cream  party       NaN           NaN  zari woven  peacock      no  \n",
       "25612  multicolor  party  jacquard  woven design  zari woven      NaN      no  "
      ]
     },
     "execution_count": 20,
     "metadata": {},
     "output_type": "execute_result"
    }
   ],
   "source": [
    "saree_data_imputed.tail()"
   ]
  },
  {
   "cell_type": "code",
   "execution_count": 21,
   "metadata": {
    "execution": {
     "iopub.execute_input": "2024-10-29T10:25:19.844185Z",
     "iopub.status.busy": "2024-10-29T10:25:19.843307Z",
     "iopub.status.idle": "2024-10-29T10:25:19.849226Z",
     "shell.execute_reply": "2024-10-29T10:25:19.848230Z",
     "shell.execute_reply.started": "2024-10-29T10:25:19.844141Z"
    },
    "trusted": true
   },
   "outputs": [],
   "source": [
    "sarees_ids=saree_data_imputed[\"id\"]\n",
    "men_ids=men_df_imputed[\"id\"]\n",
    "kurti_ids=kurti_df_imputed[\"id\"]\n",
    "womenT_ids=womenT_df_imputed[\"id\"]\n",
    "womenTops_ids=womenTops_df_imputed[\"id\"]\n"
   ]
  },
  {
   "cell_type": "code",
   "execution_count": 22,
   "metadata": {
    "execution": {
     "iopub.execute_input": "2024-10-29T10:26:39.763170Z",
     "iopub.status.busy": "2024-10-29T10:26:39.762279Z",
     "iopub.status.idle": "2024-10-29T10:26:39.777475Z",
     "shell.execute_reply": "2024-10-29T10:26:39.776699Z",
     "shell.execute_reply.started": "2024-10-29T10:26:39.763128Z"
    },
    "id": "f3Y2VzDYYaqM",
    "trusted": true
   },
   "outputs": [],
   "source": [
    "y_sarees=saree_data_imputed.drop(columns=['Category','id','len'])\n",
    "y_men=men_df_imputed.drop(columns=['Category','id','len'])\n",
    "y_kurti=kurti_df_imputed.drop(columns=['Category','id','len'])\n",
    "y_womenT=womenT_df_imputed.drop(columns=['Category','id','len'])\n",
    "y_womenTops=womenTops_df_imputed.drop(columns=['Category','id','len'])"
   ]
  },
  {
   "cell_type": "code",
   "execution_count": 23,
   "metadata": {
    "execution": {
     "iopub.execute_input": "2024-10-29T10:28:41.221494Z",
     "iopub.status.busy": "2024-10-29T10:28:41.221059Z",
     "iopub.status.idle": "2024-10-29T10:28:41.236121Z",
     "shell.execute_reply": "2024-10-29T10:28:41.235222Z",
     "shell.execute_reply.started": "2024-10-29T10:28:41.221456Z"
    },
    "id": "JzNNuoP7ZFBa",
    "outputId": "e33afa25-0545-456b-dc65-06789e468f31",
    "trusted": true
   },
   "outputs": [
    {
     "data": {
      "text/html": [
       "<div>\n",
       "<style scoped>\n",
       "    .dataframe tbody tr th:only-of-type {\n",
       "        vertical-align: middle;\n",
       "    }\n",
       "\n",
       "    .dataframe tbody tr th {\n",
       "        vertical-align: top;\n",
       "    }\n",
       "\n",
       "    .dataframe thead th {\n",
       "        text-align: right;\n",
       "    }\n",
       "</style>\n",
       "<table border=\"1\" class=\"dataframe\">\n",
       "  <thead>\n",
       "    <tr style=\"text-align: right;\">\n",
       "      <th></th>\n",
       "      <th>attr_1</th>\n",
       "      <th>attr_2</th>\n",
       "      <th>attr_3</th>\n",
       "      <th>attr_4</th>\n",
       "      <th>attr_5</th>\n",
       "      <th>attr_6</th>\n",
       "      <th>attr_7</th>\n",
       "      <th>attr_8</th>\n",
       "      <th>attr_9</th>\n",
       "      <th>attr_10</th>\n",
       "    </tr>\n",
       "  </thead>\n",
       "  <tbody>\n",
       "    <tr>\n",
       "      <th>0</th>\n",
       "      <td>default</td>\n",
       "      <td>round</td>\n",
       "      <td>printed</td>\n",
       "      <td>default</td>\n",
       "      <td>short sleeves</td>\n",
       "      <td>dummy_value</td>\n",
       "      <td>dummy_value</td>\n",
       "      <td>dummy_value</td>\n",
       "      <td>dummy_value</td>\n",
       "      <td>dummy_value</td>\n",
       "    </tr>\n",
       "    <tr>\n",
       "      <th>1</th>\n",
       "      <td>multicolor</td>\n",
       "      <td>polo</td>\n",
       "      <td>solid</td>\n",
       "      <td>solid</td>\n",
       "      <td>short sleeves</td>\n",
       "      <td>dummy_value</td>\n",
       "      <td>dummy_value</td>\n",
       "      <td>dummy_value</td>\n",
       "      <td>dummy_value</td>\n",
       "      <td>dummy_value</td>\n",
       "    </tr>\n",
       "    <tr>\n",
       "      <th>2</th>\n",
       "      <td>default</td>\n",
       "      <td>polo</td>\n",
       "      <td>solid</td>\n",
       "      <td>solid</td>\n",
       "      <td>short sleeves</td>\n",
       "      <td>dummy_value</td>\n",
       "      <td>dummy_value</td>\n",
       "      <td>dummy_value</td>\n",
       "      <td>dummy_value</td>\n",
       "      <td>dummy_value</td>\n",
       "    </tr>\n",
       "    <tr>\n",
       "      <th>3</th>\n",
       "      <td>multicolor</td>\n",
       "      <td>polo</td>\n",
       "      <td>solid</td>\n",
       "      <td>solid</td>\n",
       "      <td>short sleeves</td>\n",
       "      <td>dummy_value</td>\n",
       "      <td>dummy_value</td>\n",
       "      <td>dummy_value</td>\n",
       "      <td>dummy_value</td>\n",
       "      <td>dummy_value</td>\n",
       "    </tr>\n",
       "    <tr>\n",
       "      <th>4</th>\n",
       "      <td>multicolor</td>\n",
       "      <td>polo</td>\n",
       "      <td>solid</td>\n",
       "      <td>solid</td>\n",
       "      <td>short sleeves</td>\n",
       "      <td>dummy_value</td>\n",
       "      <td>dummy_value</td>\n",
       "      <td>dummy_value</td>\n",
       "      <td>dummy_value</td>\n",
       "      <td>dummy_value</td>\n",
       "    </tr>\n",
       "  </tbody>\n",
       "</table>\n",
       "</div>"
      ],
      "text/plain": [
       "       attr_1 attr_2   attr_3   attr_4         attr_5       attr_6  \\\n",
       "0     default  round  printed  default  short sleeves  dummy_value   \n",
       "1  multicolor   polo    solid    solid  short sleeves  dummy_value   \n",
       "2     default   polo    solid    solid  short sleeves  dummy_value   \n",
       "3  multicolor   polo    solid    solid  short sleeves  dummy_value   \n",
       "4  multicolor   polo    solid    solid  short sleeves  dummy_value   \n",
       "\n",
       "        attr_7       attr_8       attr_9      attr_10  \n",
       "0  dummy_value  dummy_value  dummy_value  dummy_value  \n",
       "1  dummy_value  dummy_value  dummy_value  dummy_value  \n",
       "2  dummy_value  dummy_value  dummy_value  dummy_value  \n",
       "3  dummy_value  dummy_value  dummy_value  dummy_value  \n",
       "4  dummy_value  dummy_value  dummy_value  dummy_value  "
      ]
     },
     "execution_count": 23,
     "metadata": {},
     "output_type": "execute_result"
    }
   ],
   "source": [
    "y_men.head()"
   ]
  },
  {
   "cell_type": "code",
   "execution_count": null,
   "metadata": {
    "trusted": true
   },
   "outputs": [],
   "source": [
    "y.value_counts()"
   ]
  },
  {
   "cell_type": "code",
   "execution_count": null,
   "metadata": {
    "trusted": true
   },
   "outputs": [],
   "source": [
    "import pandas as pd\n",
    "\n",
    "# Assuming `y` is your DataFrame\n",
    "y_encoded = pd.get_dummies(y, columns=y.columns, prefix=y.columns)\n",
    "\n",
    "# Display the first few rows of the encoded DataFrame\n",
    "y_encoded.head()\n"
   ]
  },
  {
   "cell_type": "code",
   "execution_count": 25,
   "metadata": {
    "execution": {
     "iopub.execute_input": "2024-10-29T10:29:37.764231Z",
     "iopub.status.busy": "2024-10-29T10:29:37.763805Z",
     "iopub.status.idle": "2024-10-29T10:29:37.781188Z",
     "shell.execute_reply": "2024-10-29T10:29:37.780046Z",
     "shell.execute_reply.started": "2024-10-29T10:29:37.764174Z"
    },
    "trusted": true
   },
   "outputs": [
    {
     "data": {
      "text/html": [
       "<div>\n",
       "<style scoped>\n",
       "    .dataframe tbody tr th:only-of-type {\n",
       "        vertical-align: middle;\n",
       "    }\n",
       "\n",
       "    .dataframe tbody tr th {\n",
       "        vertical-align: top;\n",
       "    }\n",
       "\n",
       "    .dataframe thead th {\n",
       "        text-align: right;\n",
       "    }\n",
       "</style>\n",
       "<table border=\"1\" class=\"dataframe\">\n",
       "  <thead>\n",
       "    <tr style=\"text-align: right;\">\n",
       "      <th></th>\n",
       "      <th>id</th>\n",
       "      <th>Category</th>\n",
       "      <th>len</th>\n",
       "      <th>attr_1</th>\n",
       "      <th>attr_2</th>\n",
       "      <th>attr_3</th>\n",
       "      <th>attr_4</th>\n",
       "      <th>attr_5</th>\n",
       "      <th>attr_6</th>\n",
       "      <th>attr_7</th>\n",
       "      <th>attr_8</th>\n",
       "      <th>attr_9</th>\n",
       "      <th>attr_10</th>\n",
       "    </tr>\n",
       "  </thead>\n",
       "  <tbody>\n",
       "    <tr>\n",
       "      <th>6146</th>\n",
       "      <td>6146</td>\n",
       "      <td>Men Tshirts</td>\n",
       "      <td>5</td>\n",
       "      <td>white</td>\n",
       "      <td>NaN</td>\n",
       "      <td>printed</td>\n",
       "      <td>typography</td>\n",
       "      <td>short sleeves</td>\n",
       "      <td>dummy_value</td>\n",
       "      <td>dummy_value</td>\n",
       "      <td>dummy_value</td>\n",
       "      <td>dummy_value</td>\n",
       "      <td>dummy_value</td>\n",
       "    </tr>\n",
       "    <tr>\n",
       "      <th>6148</th>\n",
       "      <td>6148</td>\n",
       "      <td>Men Tshirts</td>\n",
       "      <td>5</td>\n",
       "      <td>black</td>\n",
       "      <td>round</td>\n",
       "      <td>NaN</td>\n",
       "      <td>typography</td>\n",
       "      <td>short sleeves</td>\n",
       "      <td>dummy_value</td>\n",
       "      <td>dummy_value</td>\n",
       "      <td>dummy_value</td>\n",
       "      <td>dummy_value</td>\n",
       "      <td>dummy_value</td>\n",
       "    </tr>\n",
       "    <tr>\n",
       "      <th>6156</th>\n",
       "      <td>6156</td>\n",
       "      <td>Men Tshirts</td>\n",
       "      <td>5</td>\n",
       "      <td>black</td>\n",
       "      <td>round</td>\n",
       "      <td>printed</td>\n",
       "      <td>NaN</td>\n",
       "      <td>short sleeves</td>\n",
       "      <td>dummy_value</td>\n",
       "      <td>dummy_value</td>\n",
       "      <td>dummy_value</td>\n",
       "      <td>dummy_value</td>\n",
       "      <td>dummy_value</td>\n",
       "    </tr>\n",
       "    <tr>\n",
       "      <th>6161</th>\n",
       "      <td>6161</td>\n",
       "      <td>Men Tshirts</td>\n",
       "      <td>5</td>\n",
       "      <td>white</td>\n",
       "      <td>round</td>\n",
       "      <td>printed</td>\n",
       "      <td>NaN</td>\n",
       "      <td>short sleeves</td>\n",
       "      <td>dummy_value</td>\n",
       "      <td>dummy_value</td>\n",
       "      <td>dummy_value</td>\n",
       "      <td>dummy_value</td>\n",
       "      <td>dummy_value</td>\n",
       "    </tr>\n",
       "    <tr>\n",
       "      <th>6166</th>\n",
       "      <td>6166</td>\n",
       "      <td>Men Tshirts</td>\n",
       "      <td>5</td>\n",
       "      <td>multicolor</td>\n",
       "      <td>round</td>\n",
       "      <td>NaN</td>\n",
       "      <td>default</td>\n",
       "      <td>short sleeves</td>\n",
       "      <td>dummy_value</td>\n",
       "      <td>dummy_value</td>\n",
       "      <td>dummy_value</td>\n",
       "      <td>dummy_value</td>\n",
       "      <td>dummy_value</td>\n",
       "    </tr>\n",
       "  </tbody>\n",
       "</table>\n",
       "</div>"
      ],
      "text/plain": [
       "        id     Category  len      attr_1 attr_2   attr_3      attr_4  \\\n",
       "6146  6146  Men Tshirts    5       white    NaN  printed  typography   \n",
       "6148  6148  Men Tshirts    5       black  round      NaN  typography   \n",
       "6156  6156  Men Tshirts    5       black  round  printed         NaN   \n",
       "6161  6161  Men Tshirts    5       white  round  printed         NaN   \n",
       "6166  6166  Men Tshirts    5  multicolor  round      NaN     default   \n",
       "\n",
       "             attr_5       attr_6       attr_7       attr_8       attr_9  \\\n",
       "6146  short sleeves  dummy_value  dummy_value  dummy_value  dummy_value   \n",
       "6148  short sleeves  dummy_value  dummy_value  dummy_value  dummy_value   \n",
       "6156  short sleeves  dummy_value  dummy_value  dummy_value  dummy_value   \n",
       "6161  short sleeves  dummy_value  dummy_value  dummy_value  dummy_value   \n",
       "6166  short sleeves  dummy_value  dummy_value  dummy_value  dummy_value   \n",
       "\n",
       "          attr_10  \n",
       "6146  dummy_value  \n",
       "6148  dummy_value  \n",
       "6156  dummy_value  \n",
       "6161  dummy_value  \n",
       "6166  dummy_value  "
      ]
     },
     "execution_count": 25,
     "metadata": {},
     "output_type": "execute_result"
    }
   ],
   "source": [
    "men_df_cleaned.tail()"
   ]
  },
  {
   "cell_type": "code",
   "execution_count": 27,
   "metadata": {
    "execution": {
     "iopub.execute_input": "2024-10-29T10:36:26.543542Z",
     "iopub.status.busy": "2024-10-29T10:36:26.543050Z",
     "iopub.status.idle": "2024-10-29T10:38:53.167083Z",
     "shell.execute_reply": "2024-10-29T10:38:53.165822Z",
     "shell.execute_reply.started": "2024-10-29T10:36:26.543499Z"
    },
    "trusted": true
   },
   "outputs": [
    {
     "name": "stdout",
     "output_type": "stream",
     "text": [
      "Loaded 16386 images.\n",
      "Loaded images array shape: (16386, 224, 224, 3)\n"
     ]
    }
   ],
   "source": [
    "import cv2\n",
    "image_size=(224,224)\n",
    "# List to store the loaded images\n",
    "saree_images = []\n",
    "\n",
    "# Iterate through the specified range of image numbers\n",
    "for img_num in range(len(sarees_ids)):\n",
    "    filename = f'/kaggle/input/visual-taxonomy/train_images/{sarees_ids.iloc[img_num]:06}.jpg'  # Format with leading zeros\n",
    "    img = cv2.imread(filename)  # Read the image with OpenCV\n",
    "    if img is not None:\n",
    "        img_resized = cv2.resize(img, image_size)  # Resize image to 224x224\n",
    "        saree_images.append(img_resized)\n",
    "    else:\n",
    "        print(f\"Image not found or could not be loaded: {filename}\")\n",
    "\n",
    "print(f\"Loaded {len(saree_images)} images.\")\n",
    "\n",
    "\n",
    "import numpy as np\n",
    "saree_images_array = np.array(saree_images)\n",
    "print(f\"Loaded images array shape: {saree_images_array.shape}\")"
   ]
  },
  {
   "cell_type": "code",
   "execution_count": 28,
   "metadata": {
    "execution": {
     "iopub.execute_input": "2024-10-29T10:38:53.169987Z",
     "iopub.status.busy": "2024-10-29T10:38:53.169098Z",
     "iopub.status.idle": "2024-10-29T10:40:05.651713Z",
     "shell.execute_reply": "2024-10-29T10:40:05.650691Z",
     "shell.execute_reply.started": "2024-10-29T10:38:53.169936Z"
    },
    "trusted": true
   },
   "outputs": [
    {
     "name": "stdout",
     "output_type": "stream",
     "text": [
      "Loaded 5323 images.\n",
      "Loaded images array shape: (5323, 224, 224, 3)\n"
     ]
    }
   ],
   "source": [
    "import cv2\n",
    "image_size=(224,224)\n",
    "# List to store the loaded images\n",
    "men_images = []\n",
    "\n",
    "# Iterate through the specified range of image numbers\n",
    "for img_num in range(len(men_ids)):\n",
    "    filename = f'/kaggle/input/visual-taxonomy/train_images/{men_ids.iloc[img_num]:06}.jpg'  # Format with leading zeros\n",
    "    img = cv2.imread(filename)  # Read the image with OpenCV\n",
    "    if img is not None:\n",
    "        img_resized = cv2.resize(img, image_size)  # Resize image to 224x224\n",
    "        men_images.append(img_resized)\n",
    "    else:\n",
    "        print(f\"Image not found or could not be loaded: {filename}\")\n",
    "\n",
    "print(f\"Loaded {len(men_images)} images.\")\n",
    "\n",
    "\n",
    "import numpy as np\n",
    "men_images_array = np.array(men_images)\n",
    "print(f\"Loaded images array shape: {men_images_array.shape}\")"
   ]
  },
  {
   "cell_type": "code",
   "execution_count": 29,
   "metadata": {
    "execution": {
     "iopub.execute_input": "2024-10-29T10:40:05.653178Z",
     "iopub.status.busy": "2024-10-29T10:40:05.652873Z",
     "iopub.status.idle": "2024-10-29T10:41:01.006646Z",
     "shell.execute_reply": "2024-10-29T10:41:01.005605Z",
     "shell.execute_reply.started": "2024-10-29T10:40:05.653145Z"
    },
    "trusted": true
   },
   "outputs": [
    {
     "name": "stdout",
     "output_type": "stream",
     "text": [
      "Loaded 4330 images.\n",
      "Loaded images array shape: (4330, 224, 224, 3)\n"
     ]
    }
   ],
   "source": [
    "import cv2\n",
    "image_size=(224,224)\n",
    "# List to store the loaded images\n",
    "kurti_images = []\n",
    "\n",
    "# Iterate through the specified range of image numbers\n",
    "for img_num in range(len(kurti_ids)):\n",
    "    filename = f'/kaggle/input/visual-taxonomy/train_images/{kurti_ids.iloc[img_num]:06}.jpg'  # Format with leading zeros\n",
    "    img = cv2.imread(filename)  # Read the image with OpenCV\n",
    "    if img is not None:\n",
    "        img_resized = cv2.resize(img, image_size)  # Resize image to 224x224\n",
    "        kurti_images.append(img_resized)\n",
    "    else:\n",
    "        print(f\"Image not found or could not be loaded: {filename}\")\n",
    "\n",
    "print(f\"Loaded {len(kurti_images)} images.\")\n",
    "\n",
    "\n",
    "import numpy as np\n",
    "kurti_images_array = np.array(kurti_images)\n",
    "print(f\"Loaded images array shape: {kurti_images_array.shape}\")"
   ]
  },
  {
   "cell_type": "code",
   "execution_count": 30,
   "metadata": {
    "execution": {
     "iopub.execute_input": "2024-10-29T10:41:01.009158Z",
     "iopub.status.busy": "2024-10-29T10:41:01.008849Z",
     "iopub.status.idle": "2024-10-29T10:43:33.336682Z",
     "shell.execute_reply": "2024-10-29T10:43:33.335651Z",
     "shell.execute_reply.started": "2024-10-29T10:41:01.009125Z"
    },
    "trusted": true
   },
   "outputs": [
    {
     "name": "stdout",
     "output_type": "stream",
     "text": [
      "Loaded 14795 images.\n",
      "Loaded images array shape: (14795, 224, 224, 3)\n"
     ]
    }
   ],
   "source": [
    "import cv2\n",
    "image_size=(224,224)\n",
    "# List to store the loaded images\n",
    "womenT_images = []\n",
    "\n",
    "# Iterate through the specified range of image numbers\n",
    "for img_num in range(len(womenT_ids)):\n",
    "    filename = f'/kaggle/input/visual-taxonomy/train_images/{womenT_ids.iloc[img_num]:06}.jpg'  # Format with leading zeros\n",
    "    img = cv2.imread(filename)  # Read the image with OpenCV\n",
    "    if img is not None:\n",
    "        img_resized = cv2.resize(img, image_size)  # Resize image to 224x224\n",
    "        womenT_images.append(img_resized)\n",
    "    else:\n",
    "        print(f\"Image not found or could not be loaded: {filename}\")\n",
    "\n",
    "print(f\"Loaded {len(womenT_images)} images.\")\n",
    "\n",
    "\n",
    "import numpy as np\n",
    "womenT_images_array = np.array(womenT_images)\n",
    "print(f\"Loaded images array shape: {womenT_images_array.shape}\")"
   ]
  },
  {
   "cell_type": "code",
   "execution_count": 31,
   "metadata": {
    "execution": {
     "iopub.execute_input": "2024-10-29T10:43:33.338278Z",
     "iopub.status.busy": "2024-10-29T10:43:33.337919Z",
     "iopub.status.idle": "2024-10-29T10:45:58.157884Z",
     "shell.execute_reply": "2024-10-29T10:45:58.156883Z",
     "shell.execute_reply.started": "2024-10-29T10:43:33.338243Z"
    },
    "trusted": true
   },
   "outputs": [
    {
     "name": "stdout",
     "output_type": "stream",
     "text": [
      "Loaded 11446 images.\n",
      "Loaded images array shape: (11446, 224, 224, 3)\n"
     ]
    }
   ],
   "source": [
    "import cv2\n",
    "image_size=(224,224)\n",
    "# List to store the loaded images\n",
    "womenTops_images = []\n",
    "\n",
    "# Iterate through the specified range of image numbers\n",
    "for img_num in range(len(womenTops_ids)):\n",
    "    filename = f'/kaggle/input/visual-taxonomy/train_images/{womenTops_ids.iloc[img_num]:06}.jpg'  # Format with leading zeros\n",
    "    img = cv2.imread(filename)  # Read the image with OpenCV\n",
    "    if img is not None:\n",
    "        img_resized = cv2.resize(img, image_size)  # Resize image to 224x224\n",
    "        womenTops_images.append(img_resized)\n",
    "    else:\n",
    "        print(f\"Image not found or could not be loaded: {filename}\")\n",
    "\n",
    "print(f\"Loaded {len(womenTops_images)} images.\")\n",
    "\n",
    "\n",
    "import numpy as np\n",
    "womenTops_images_array = np.array(womenTops_images)\n",
    "print(f\"Loaded images array shape: {womenTops_images_array.shape}\")"
   ]
  },
  {
   "cell_type": "code",
   "execution_count": 32,
   "metadata": {
    "execution": {
     "iopub.execute_input": "2024-10-29T10:45:58.159469Z",
     "iopub.status.busy": "2024-10-29T10:45:58.159129Z",
     "iopub.status.idle": "2024-10-29T10:46:01.431244Z",
     "shell.execute_reply": "2024-10-29T10:46:01.430447Z",
     "shell.execute_reply.started": "2024-10-29T10:45:58.159435Z"
    },
    "trusted": true
   },
   "outputs": [],
   "source": [
    "from tensorflow.keras.preprocessing.image import ImageDataGenerator\n",
    "from tensorflow.keras.applications.vgg16 import VGG16, preprocess_input\n",
    "from tensorflow.keras.applications.vgg16 import decode_predictions"
   ]
  },
  {
   "cell_type": "code",
   "execution_count": 33,
   "metadata": {
    "execution": {
     "iopub.execute_input": "2024-10-29T10:46:01.433220Z",
     "iopub.status.busy": "2024-10-29T10:46:01.432532Z",
     "iopub.status.idle": "2024-10-29T10:46:01.437531Z",
     "shell.execute_reply": "2024-10-29T10:46:01.436591Z",
     "shell.execute_reply.started": "2024-10-29T10:46:01.433181Z"
    },
    "trusted": true
   },
   "outputs": [],
   "source": [
    "# Initialize the ImageDataGenerator with VGG16 preprocessing\n",
    "datagen = ImageDataGenerator(preprocessing_function=preprocess_input)"
   ]
  },
  {
   "cell_type": "code",
   "execution_count": null,
   "metadata": {
    "execution": {
     "iopub.execute_input": "2024-10-29T10:46:01.439674Z",
     "iopub.status.busy": "2024-10-29T10:46:01.438865Z"
    },
    "trusted": true
   },
   "outputs": [],
   "source": [
    "batch_size = 256\n",
    "data_generator_saree = datagen.flow(\n",
    "    saree_images_array,\n",
    "    batch_size=batch_size,\n",
    "    shuffle=False\n",
    ")\n",
    "\n",
    "data_generator_men = datagen.flow(\n",
    "    men_images_array,\n",
    "    batch_size=batch_size,\n",
    "    shuffle=False\n",
    ")\n",
    "\n",
    "data_generator_kurti = datagen.flow(\n",
    "    kurti_images_array,\n",
    "    batch_size=batch_size,\n",
    "    shuffle=False\n",
    ")\n",
    "\n",
    "data_generator_womenT = datagen.flow(\n",
    "    womenT_images_array,\n",
    "    batch_size=batch_size,\n",
    "    shuffle=False\n",
    ")\n",
    "\n",
    "data_generator_womenTops = datagen.flow(\n",
    "    womenTops_images_array,\n",
    "    batch_size=batch_size,\n",
    "    shuffle=False\n",
    ")"
   ]
  },
  {
   "cell_type": "code",
   "execution_count": null,
   "metadata": {
    "trusted": true
   },
   "outputs": [],
   "source": [
    "# Load the VGG16 model\n",
    "model = VGG16(weights='imagenet')"
   ]
  },
  {
   "cell_type": "code",
   "execution_count": null,
   "metadata": {
    "trusted": true
   },
   "outputs": [],
   "source": [
    "model.summary()"
   ]
  },
  {
   "cell_type": "code",
   "execution_count": null,
   "metadata": {
    "trusted": true
   },
   "outputs": [],
   "source": [
    "predictions_all_saree = []\n",
    "num_batches = len(data_generator_saree)  # Total number of batches in the generator\n",
    "\n",
    "for _ in range(num_batches):\n",
    "    batch = next(data_generator_saree)  # Get the next batch\n",
    "    predictions = model.predict(batch)\n",
    "    predictions_all_saree.append(predictions)\n"
   ]
  },
  {
   "cell_type": "code",
   "execution_count": null,
   "metadata": {
    "trusted": true
   },
   "outputs": [],
   "source": [
    "predictions_all_men = []\n",
    "num_batches = len(data_generator_men)  # Total number of batches in the generator\n",
    "\n",
    "for _ in range(num_batches):\n",
    "    batch = next(data_generator_men)  # Get the next batch\n",
    "    predictions = model.predict(batch)\n",
    "    predictions_all_men.append(predictions)\n"
   ]
  },
  {
   "cell_type": "code",
   "execution_count": null,
   "metadata": {
    "trusted": true
   },
   "outputs": [],
   "source": [
    "predictions_all_kurti = []\n",
    "num_batches = len(data_generator_kurti)  # Total number of batches in the generator\n",
    "\n",
    "for _ in range(num_batches):\n",
    "    batch = next(data_generator_kurti)  # Get the next batch\n",
    "    predictions = model.predict(batch)\n",
    "    predictions_all_kurti.append(predictions)\n"
   ]
  },
  {
   "cell_type": "code",
   "execution_count": null,
   "metadata": {
    "trusted": true
   },
   "outputs": [],
   "source": [
    "predictions_all_womenT = []\n",
    "num_batches = len(data_generator_womenT)  # Total number of batches in the generator\n",
    "\n",
    "for _ in range(num_batches):\n",
    "    batch = next(data_generator_womenT)  # Get the next batch\n",
    "    predictions = model.predict(batch)\n",
    "    predictions_all_womenT.append(predictions)\n"
   ]
  },
  {
   "cell_type": "code",
   "execution_count": null,
   "metadata": {
    "trusted": true
   },
   "outputs": [],
   "source": [
    "predictions_all_womenTops = []\n",
    "num_batches = len(data_generator_womenTops)  # Total number of batches in the generator\n",
    "\n",
    "for _ in range(num_batches):\n",
    "    batch = next(data_generator_womenTops)  # Get the next batch\n",
    "    predictions = model.predict(batch)\n",
    "    predictions_all_womenTops.append(predictions)\n"
   ]
  },
  {
   "cell_type": "code",
   "execution_count": null,
   "metadata": {
    "trusted": true
   },
   "outputs": [],
   "source": [
    "x_encoded_saree = np.concatenate(predictions_all_saree, axis=0)\n",
    "x_encoded_men = np.concatenate(predictions_all_men, axis=0)\n",
    "x_encoded_kurti = np.concatenate(predictions_all_kurti, axis=0)\n",
    "x_encoded_womenT = np.concatenate(predictions_all_womenT, axis=0)\n",
    "x_encoded_womenTops = np.concatenate(predictions_all_womenTops, axis=0)\n"
   ]
  },
  {
   "cell_type": "code",
   "execution_count": null,
   "metadata": {
    "trusted": true
   },
   "outputs": [],
   "source": [
    "y_encoded.shape"
   ]
  },
  {
   "cell_type": "code",
   "execution_count": null,
   "metadata": {
    "trusted": true
   },
   "outputs": [],
   "source": [
    "from tensorflow.keras.models import Sequential\n",
    "from tensorflow.keras.layers import Dense\n",
    "from tensorflow.keras.optimizers import Adam\n",
    "from sklearn.model_selection import train_test_split\n",
    "import numpy as np\n",
    "\n",
    "# Split the data into train and test sets (e.g., 80% train, 20% test)\n",
    "x_train, x_test, y_train, y_test = train_test_split(x_encoded, y_encoded, test_size=0.2, random_state=42)\n",
    "\n",
    "# Define the model\n",
    "model_final = Sequential([\n",
    "    Dense(512, input_shape=(1000,), activation='relu'),\n",
    "    Dense(256, activation='relu'),\n",
    "    Dense(128, activation='relu'),\n",
    "    Dense(64, activation='relu'),\n",
    "    Dense(48, activation='sigmoid')\n",
    "])\n",
    "\n",
    "# Compile the model\n",
    "model_final.compile(optimizer=Adam(), loss='binary_crossentropy', metrics=['accuracy'])\n",
    "\n",
    "# Set batch size and epochs\n",
    "batch_size = 256\n",
    "epochs = 20\n",
    "\n",
    "# Train the model with validation data\n",
    "history = model_final.fit(\n",
    "    x_train, y_train,\n",
    "    batch_size=batch_size,\n",
    "    epochs=epochs,\n",
    "    validation_data=(x_test, y_test)\n",
    ")\n",
    "\n",
    "# Print training and validation loss and accuracy history\n",
    "print(\"Training Loss and Accuracy:\", history.history['loss'], history.history['accuracy'])\n",
    "print(\"Validation Loss and Accuracy:\", history.history['val_loss'], history.history['val_accuracy'])\n"
   ]
  },
  {
   "cell_type": "code",
   "execution_count": null,
   "metadata": {
    "trusted": true
   },
   "outputs": [],
   "source": [
    "import matplotlib.pyplot as plt\n",
    "\n",
    "# Plot training & validation accuracy values\n",
    "plt.figure(figsize=(12, 4))\n",
    "plt.subplot(1, 2, 1)\n",
    "plt.plot(history.history['accuracy'], label='Train Accuracy')\n",
    "plt.plot(history.history['val_accuracy'], label='Val Accuracy')\n",
    "plt.title('Model Accuracy')\n",
    "plt.xlabel('Epoch')\n",
    "plt.ylabel('Accuracy')\n",
    "plt.legend()\n",
    "\n",
    "# Plot training & validation loss values\n",
    "plt.subplot(1, 2, 2)\n",
    "plt.plot(history.history['loss'], label='Train Loss')\n",
    "plt.plot(history.history['val_loss'], label='Val Loss')\n",
    "plt.title('Model Loss')\n",
    "plt.xlabel('Epoch')\n",
    "plt.ylabel('Loss')\n",
    "plt.legend()\n",
    "\n",
    "plt.show()\n"
   ]
  },
  {
   "cell_type": "markdown",
   "metadata": {},
   "source": [
    "# Test data"
   ]
  },
  {
   "cell_type": "code",
   "execution_count": null,
   "metadata": {
    "trusted": true
   },
   "outputs": [],
   "source": [
    "test_data = pd.read_csv('/kaggle/input/visual-taxonomy/test.csv')\n",
    "test_data.head()\n",
    "\n",
    "\n",
    "saree_df_test=test_data[(test_data['Category']=='Sarees')]\n",
    "men_df_test=test_data[(test_data['Category']=='Men Tshirts')]\n",
    "kurti_df_test=test_data[(test_data['Category']=='Kurtis')]\n",
    "womenT_df_test=test_data[(test_data['Category']=='Women Tshirts')]\n",
    "womenTops_df_test=test_data[(test_data['Category']=='Women Tops & Tunics')]"
   ]
  },
  {
   "cell_type": "code",
   "execution_count": null,
   "metadata": {},
   "outputs": [],
   "source": [
    "saree_test_id=saree_df_test[\"id\"]\n",
    "men_test_id=men_df_test[\"id\"]\n",
    "kurti_test_id=kurti_df_test[\"id\"]\n",
    "womenT_test_id=womenT_df_test[\"id\"]\n",
    "womenTops_test_id=womenTops_df_test[\"id\"]"
   ]
  },
  {
   "cell_type": "code",
   "execution_count": null,
   "metadata": {
    "trusted": true
   },
   "outputs": [],
   "source": [
    "image_size=(224,224)\n",
    "# List to store the loaded images\n",
    "test_images = []\n",
    "\n",
    "# Iterate through the specified range of image numbers\n",
    "for img_num in range(len(saree_test_id)):\n",
    "    filename = f'/kaggle/input/visual-taxonomy/test_images/{saree_test_id.iloc[img_num]:06}.jpg'  # Format with leading zeros\n",
    "    img = cv2.imread(filename)  # Read the image with OpenCV\n",
    "    if img is not None:\n",
    "        img_resized = cv2.resize(img, image_size)  # Resize image to 224x224\n",
    "        test_images.append(img_resized)\n",
    "    else:\n",
    "        print(f\"Image not found or could not be loaded: {filename}\")\n",
    "\n",
    "print(f\"Loaded {len(test_images)} images.\")"
   ]
  },
  {
   "cell_type": "code",
   "execution_count": null,
   "metadata": {
    "trusted": true
   },
   "outputs": [],
   "source": [
    "test_images_array = np.array(test_images)\n",
    "print(f\"Loaded images array shape: {test_images_array.shape}\")"
   ]
  },
  {
   "cell_type": "code",
   "execution_count": null,
   "metadata": {
    "trusted": true
   },
   "outputs": [],
   "source": [
    "batch_size = 256\n",
    "data_generator_test = datagen.flow(\n",
    "    test_images_array,\n",
    "    batch_size=batch_size,\n",
    "    shuffle=False\n",
    ")"
   ]
  },
  {
   "cell_type": "code",
   "execution_count": null,
   "metadata": {
    "trusted": true
   },
   "outputs": [],
   "source": [
    "test_predictions_all = []\n",
    "num_batches = len(data_generator_test)  # Total number of batches in the generator\n",
    "\n",
    "for _ in range(num_batches):\n",
    "    batch = next(data_generator_test)  # Get the next batch\n",
    "    predictions = model.predict(batch)\n",
    "    test_predictions_all.append(predictions)"
   ]
  },
  {
   "cell_type": "code",
   "execution_count": null,
   "metadata": {
    "trusted": true
   },
   "outputs": [],
   "source": [
    "x_encoded_test = np.concatenate(test_predictions_all, axis=0)\n",
    "print(x_encoded_test.shape)"
   ]
  },
  {
   "cell_type": "code",
   "execution_count": null,
   "metadata": {
    "trusted": true
   },
   "outputs": [],
   "source": [
    "y_encoded_test=model_final.predict(x_encoded_test)\n",
    "print(y_encoded_test.shape)\n"
   ]
  },
  {
   "cell_type": "code",
   "execution_count": null,
   "metadata": {
    "trusted": true
   },
   "outputs": [],
   "source": [
    "y_encoded_test=pd.DataFrame(y_encoded_test)\n",
    "y_encoded_test.head()"
   ]
  },
  {
   "cell_type": "code",
   "execution_count": null,
   "metadata": {
    "trusted": true
   },
   "outputs": [],
   "source": [
    "csv_file_path = 'saree_encoded.csv'\n",
    "saree_test_id.to_csv(csv_file_path, index=False)"
   ]
  },
  {
   "cell_type": "markdown",
   "metadata": {},
   "source": [
    "# Classifier"
   ]
  },
  {
   "cell_type": "code",
   "execution_count": null,
   "metadata": {
    "trusted": true
   },
   "outputs": [],
   "source": [
    "# Import necessary libraries\n",
    "from sklearn.ensemble import RandomForestClassifier\n",
    "from sklearn.model_selection import train_test_split\n",
    "from sklearn.metrics import accuracy_score, classification_report\n",
    "import numpy as np\n",
    "\n",
    "# Assuming X is your feature vector (e.g., of shape (num_samples, feature_length))\n",
    "# and y is your labels array (e.g., of shape (num_samples,))\n",
    "\n",
    "# Step 1: Split the data into training and testing sets\n",
    "X_train, X_test, y_train, y_test = train_test_split(x_encoded_saree, y_saree, test_size=0.2, random_state=42)\n",
    "\n",
    "# Step 2: Initialize the classifier\n",
    "classifier = RandomForestClassifier(n_estimators=100, random_state=42)\n",
    "\n",
    "# Step 3: Train the classifier\n",
    "classifier.fit(X_train, y_train)\n",
    "\n",
    "# Step 4: Predict on the test set\n",
    "y_pred = classifier.predict(X_test)\n",
    "\n",
    "# Step 5: Evaluate the model\n"
   ]
  },
  {
   "cell_type": "code",
   "execution_count": null,
   "metadata": {
    "trusted": true
   },
   "outputs": [],
   "source": [
    "y_pred_test = classifier.predict(x_encoded_test)"
   ]
  },
  {
   "cell_type": "code",
   "execution_count": null,
   "metadata": {
    "trusted": true
   },
   "outputs": [],
   "source": [
    "y_pred_test"
   ]
  },
  {
   "cell_type": "code",
   "execution_count": null,
   "metadata": {},
   "outputs": [],
   "source": []
  }
 ],
 "metadata": {
  "colab": {
   "provenance": []
  },
  "kaggle": {
   "accelerator": "nvidiaTeslaT4",
   "dataSources": [
    {
     "databundleVersionId": 9755748,
     "sourceId": 84705,
     "sourceType": "competition"
    }
   ],
   "dockerImageVersionId": 30787,
   "isGpuEnabled": true,
   "isInternetEnabled": true,
   "language": "python",
   "sourceType": "notebook"
  },
  "kernelspec": {
   "display_name": "Python 3",
   "language": "python",
   "name": "python3"
  },
  "language_info": {
   "codemirror_mode": {
    "name": "ipython",
    "version": 3
   },
   "file_extension": ".py",
   "mimetype": "text/x-python",
   "name": "python",
   "nbconvert_exporter": "python",
   "pygments_lexer": "ipython3",
   "version": "3.10.14"
  }
 },
 "nbformat": 4,
 "nbformat_minor": 4
}
